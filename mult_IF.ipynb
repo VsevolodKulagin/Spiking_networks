{
 "cells": [
  {
   "cell_type": "code",
   "execution_count": 9,
   "metadata": {},
   "outputs": [
    {
     "data": {
      "text/html": [
       "<style>.container { width:90% !important; }</style>"
      ],
      "text/plain": [
       "<IPython.core.display.HTML object>"
      ]
     },
     "metadata": {},
     "output_type": "display_data"
    }
   ],
   "source": [
    "from IPython.core.display import display, HTML\n",
    "display(HTML(\"<style>.container { width:90% !important; }</style>\"))\n",
    "\n",
    "from IPython import display"
   ]
  },
  {
   "cell_type": "code",
   "execution_count": 10,
   "metadata": {},
   "outputs": [],
   "source": [
    "from matplotlib import pyplot as plt\n",
    "import torch\n",
    "import bindsnet\n",
    "import os\n",
    "import numpy as np\n",
    "import math"
   ]
  },
  {
   "cell_type": "code",
   "execution_count": 11,
   "metadata": {},
   "outputs": [],
   "source": [
    "from time import time as t\n",
    "\n",
    "from bindsnet.datasets import MNIST\n",
    "from bindsnet.network import Network\n",
    "from bindsnet.learning import WeightDependentPostPre\n",
    "from bindsnet.encoding import poisson_loader\n",
    "from bindsnet.network.monitors import NetworkMonitor\n",
    "from bindsnet.network.nodes import Input, IFNodes\n",
    "from bindsnet.network.topology import Connection"
   ]
  },
  {
   "cell_type": "markdown",
   "metadata": {},
   "source": [
    "### Set Parameters"
   ]
  },
  {
   "cell_type": "code",
   "execution_count": 12,
   "metadata": {},
   "outputs": [],
   "source": [
    "init_weight_value = 0.8\n",
    "weights_init_XY = torch.Tensor([[init_weight_value, 1 - init_weight_value],\n",
    "                                [1 - init_weight_value, init_weight_value]\n",
    "                               ])\n",
    "\n",
    "# Learning\n",
    "### STDP\n",
    "\n",
    "A_neg=1\n",
    "A_pos=1\n",
    "\n",
    "trace_tc = 1 # 1/tau_+ ; 1/tau_-\n",
    "\n",
    "# Connections\n",
    "wmin = 0\n",
    "wmax = 1\n",
    "weight_decay = 15e-2\n",
    "\n",
    "# Neurons\n",
    "reset = 1.0\n",
    "\n",
    "#### Thresholds\n",
    "refrac = 4\n",
    "thresh = 6.0\n",
    "\n",
    "# Data encoding\n",
    "intensity = 500\n",
    "time = 50\n"
   ]
  },
  {
   "cell_type": "markdown",
   "metadata": {},
   "source": [
    "### Create Network"
   ]
  },
  {
   "cell_type": "code",
   "execution_count": 13,
   "metadata": {},
   "outputs": [
    {
     "name": "stdout",
     "output_type": "stream",
     "text": [
      "GlobalMonitor.state_vars: ('v', 's', 'w')\n"
     ]
    }
   ],
   "source": [
    "network = Network()\n",
    "input_layer = Input(n=2, \n",
    "                    traces=True, \n",
    "                    trace_tc=trace_tc\n",
    "                   )\n",
    "\n",
    "output_layer = IFNodes(n=2, \n",
    "                       traces=True, \n",
    "                       thresh=thresh, \n",
    "                       reset=reset,\n",
    "                       refrac=refrac, \n",
    "                       trace_tc=trace_tc\n",
    "                       )\n",
    "\n",
    "conn_XY = Connection(input_layer, \n",
    "                     output_layer, \n",
    "                     update_rule=WeightDependentPostPre, \n",
    "                     w=weights_init_XY, \n",
    "                     nu=[A_neg, A_pos], \n",
    "                     wmin=wmin, \n",
    "                     wmax=wmax,\n",
    "                     weight_decay=weight_decay,\n",
    "                     )\n",
    "\n",
    "network.add_layer(input_layer, name='X')\n",
    "network.add_layer(output_layer, name='Y')\n",
    "network.add_connection(conn_XY, source='X', target='Y')\n",
    "\n",
    "GlobalMonitor = NetworkMonitor(network, state_vars=('v', 's', 'w'))\n",
    "network.add_monitor(GlobalMonitor, name='Network')\n",
    "\n",
    "print('GlobalMonitor.state_vars:', GlobalMonitor.state_vars)"
   ]
  },
  {
   "cell_type": "markdown",
   "metadata": {},
   "source": [
    "### Create Custom Dataset"
   ]
  },
  {
   "cell_type": "code",
   "execution_count": 14,
   "metadata": {
    "scrolled": true
   },
   "outputs": [],
   "source": [
    "len_dataset = 1000\n",
    "input_data = torch.zeros(len_dataset, 2)\n",
    "\n",
    "for i in range(len_dataset):\n",
    "    if i % 2 == 0:\n",
    "        input_data[i] = torch.Tensor([1.0, 0.0]) + 0.3*torch.rand([1, 2])\n",
    "    else:\n",
    "        input_data[i] = torch.Tensor([0.0, 1.0]) + 0.3*torch.rand([1, 2])\n",
    "        \n",
    "input_data *= intensity\n",
    "\n",
    "# Lazily encode data as Poisson spike trains.\n",
    "data_loader = poisson_loader(data=input_data, time=time)\n",
    "\n",
    "# set visualize_sample = True to watch the example\n",
    "visualize_sample = False\n",
    "\n",
    "# display.update_display example\n",
    "if visualize_sample:\n",
    "    sample = next(data_loader)\n",
    "    fig = plt.figure(figsize=(4,4))\n",
    "    for i, sample in enumerate(data_loader):\n",
    "        if i==0:\n",
    "            plt.title('spike coding 0 0')\n",
    "            plt.imshow(sample[0].view(2,1))\n",
    "            plt.axis('off')\n",
    "            display.display(fig, display_id = 'spike coding')\n",
    "\n",
    "        for j, sample_t in enumerate(sample):\n",
    "            plt.title('spike coding ' + str(i) + ' '+ str(j))\n",
    "            plt.imshow(sample_t.view(2,1))\n",
    "            plt.axis('off')\n",
    "            display.update_display(fig, display_id = 'spike coding')\n",
    "        print(i)\n",
    "        \n",
    "        break\n",
    "\n",
    "    "
   ]
  },
  {
   "cell_type": "code",
   "execution_count": 15,
   "metadata": {},
   "outputs": [
    {
     "data": {
      "image/png": "[encoded data removed]",
      "text/plain": [
       "<Figure size 432x288 with 1 Axes>"
      ]
     },
     "metadata": {
      "needs_background": "light"
     },
     "output_type": "display_data"
    }
   ],
   "source": [
    "sample = next(data_loader)\n",
    "\n",
    "# Spike times\n",
    "plt.figure()\n",
    "plt.imshow(sample.numpy().T)\n",
    "plt.show()"
   ]
  },
  {
   "cell_type": "markdown",
   "metadata": {},
   "source": [
    "### Цикл обучения"
   ]
  },
  {
   "cell_type": "code",
   "execution_count": 19,
   "metadata": {},
   "outputs": [
    {
     "name": "stdout",
     "output_type": "stream",
     "text": [
      "Begin training.\n",
      "\n",
      "Progress: 0 / 50 (0.0000 seconds)\n"
     ]
    },
    {
     "ename": "RuntimeError",
     "evalue": "Expected tensor to have size 2 at dimension 1, but got size 1 for argument #2 'batch2' (while checking arguments for bmm)",
     "output_type": "error",
     "traceback": [
      "\u001b[1;31m---------------------------------------------------------------------------\u001b[0m",
      "\u001b[1;31mRuntimeError\u001b[0m                              Traceback (most recent call last)",
      "\u001b[1;32m<ipython-input-19-eb9d8e29fd30>\u001b[0m in \u001b[0;36m<module>\u001b[1;34m\u001b[0m\n\u001b[0;32m     14\u001b[0m \u001b[1;33m\u001b[0m\u001b[0m\n\u001b[0;32m     15\u001b[0m     \u001b[1;31m# Run the network on the input.\u001b[0m\u001b[1;33m\u001b[0m\u001b[1;33m\u001b[0m\u001b[1;33m\u001b[0m\u001b[0m\n\u001b[1;32m---> 16\u001b[1;33m     \u001b[0mnetwork\u001b[0m\u001b[1;33m.\u001b[0m\u001b[0mrun\u001b[0m\u001b[1;33m(\u001b[0m\u001b[0minpts\u001b[0m\u001b[1;33m=\u001b[0m\u001b[0minpts\u001b[0m\u001b[1;33m,\u001b[0m \u001b[0mtime\u001b[0m\u001b[1;33m=\u001b[0m\u001b[0mtime\u001b[0m\u001b[1;33m)\u001b[0m\u001b[1;33m\u001b[0m\u001b[1;33m\u001b[0m\u001b[0m\n\u001b[0m\u001b[0;32m     17\u001b[0m \u001b[1;33m\u001b[0m\u001b[0m\n\u001b[0;32m     18\u001b[0m     \u001b[1;31m# get recordings\u001b[0m\u001b[1;33m\u001b[0m\u001b[1;33m\u001b[0m\u001b[1;33m\u001b[0m\u001b[0m\n",
      "\u001b[1;32mC:\\Users\\Public\\Anaconda\\lib\\site-packages\\bindsnet-master\\bindsnet\\network\\network.py\u001b[0m in \u001b[0;36mrun\u001b[1;34m(self, inpts, time, one_step, **kwargs)\u001b[0m\n\u001b[0;32m    377\u001b[0m             \u001b[1;32mfor\u001b[0m \u001b[0mc\u001b[0m \u001b[1;32min\u001b[0m \u001b[0mself\u001b[0m\u001b[1;33m.\u001b[0m\u001b[0mconnections\u001b[0m\u001b[1;33m:\u001b[0m\u001b[1;33m\u001b[0m\u001b[1;33m\u001b[0m\u001b[0m\n\u001b[0;32m    378\u001b[0m                 self.connections[c].update(\n\u001b[1;32m--> 379\u001b[1;33m                     \u001b[0mmask\u001b[0m\u001b[1;33m=\u001b[0m\u001b[0mmasks\u001b[0m\u001b[1;33m.\u001b[0m\u001b[0mget\u001b[0m\u001b[1;33m(\u001b[0m\u001b[0mc\u001b[0m\u001b[1;33m,\u001b[0m \u001b[1;32mNone\u001b[0m\u001b[1;33m)\u001b[0m\u001b[1;33m,\u001b[0m \u001b[0mlearning\u001b[0m\u001b[1;33m=\u001b[0m\u001b[0mself\u001b[0m\u001b[1;33m.\u001b[0m\u001b[0mlearning\u001b[0m\u001b[1;33m,\u001b[0m \u001b[1;33m**\u001b[0m\u001b[0mkwargs\u001b[0m\u001b[1;33m\u001b[0m\u001b[1;33m\u001b[0m\u001b[0m\n\u001b[0m\u001b[0;32m    380\u001b[0m                 )\n\u001b[0;32m    381\u001b[0m \u001b[1;33m\u001b[0m\u001b[0m\n",
      "\u001b[1;32mC:\\Users\\Public\\Anaconda\\lib\\site-packages\\bindsnet-master\\bindsnet\\network\\topology.py\u001b[0m in \u001b[0;36mupdate\u001b[1;34m(self, **kwargs)\u001b[0m\n\u001b[0;32m    194\u001b[0m         \u001b[0mCompute\u001b[0m \u001b[0mconnection\u001b[0m\u001b[0;31m'\u001b[0m\u001b[0ms\u001b[0m \u001b[0mupdate\u001b[0m \u001b[0mrule\u001b[0m\u001b[1;33m.\u001b[0m\u001b[1;33m\u001b[0m\u001b[1;33m\u001b[0m\u001b[0m\n\u001b[0;32m    195\u001b[0m         \"\"\"\n\u001b[1;32m--> 196\u001b[1;33m         \u001b[0msuper\u001b[0m\u001b[1;33m(\u001b[0m\u001b[1;33m)\u001b[0m\u001b[1;33m.\u001b[0m\u001b[0mupdate\u001b[0m\u001b[1;33m(\u001b[0m\u001b[1;33m**\u001b[0m\u001b[0mkwargs\u001b[0m\u001b[1;33m)\u001b[0m\u001b[1;33m\u001b[0m\u001b[1;33m\u001b[0m\u001b[0m\n\u001b[0m\u001b[0;32m    197\u001b[0m \u001b[1;33m\u001b[0m\u001b[0m\n\u001b[0;32m    198\u001b[0m     \u001b[1;32mdef\u001b[0m \u001b[0mnormalize\u001b[0m\u001b[1;33m(\u001b[0m\u001b[0mself\u001b[0m\u001b[1;33m)\u001b[0m \u001b[1;33m->\u001b[0m \u001b[1;32mNone\u001b[0m\u001b[1;33m:\u001b[0m\u001b[1;33m\u001b[0m\u001b[1;33m\u001b[0m\u001b[0m\n",
      "\u001b[1;32mC:\\Users\\Public\\Anaconda\\lib\\site-packages\\bindsnet-master\\bindsnet\\network\\topology.py\u001b[0m in \u001b[0;36mupdate\u001b[1;34m(self, **kwargs)\u001b[0m\n\u001b[0;32m    105\u001b[0m \u001b[1;33m\u001b[0m\u001b[0m\n\u001b[0;32m    106\u001b[0m         \u001b[1;32mif\u001b[0m \u001b[0mlearning\u001b[0m\u001b[1;33m:\u001b[0m\u001b[1;33m\u001b[0m\u001b[1;33m\u001b[0m\u001b[0m\n\u001b[1;32m--> 107\u001b[1;33m             \u001b[0mself\u001b[0m\u001b[1;33m.\u001b[0m\u001b[0mupdate_rule\u001b[0m\u001b[1;33m.\u001b[0m\u001b[0mupdate\u001b[0m\u001b[1;33m(\u001b[0m\u001b[1;33m**\u001b[0m\u001b[0mkwargs\u001b[0m\u001b[1;33m)\u001b[0m\u001b[1;33m\u001b[0m\u001b[1;33m\u001b[0m\u001b[0m\n\u001b[0m\u001b[0;32m    108\u001b[0m \u001b[1;33m\u001b[0m\u001b[0m\n\u001b[0;32m    109\u001b[0m         \u001b[0mmask\u001b[0m \u001b[1;33m=\u001b[0m \u001b[0mkwargs\u001b[0m\u001b[1;33m.\u001b[0m\u001b[0mget\u001b[0m\u001b[1;33m(\u001b[0m\u001b[1;34m\"mask\"\u001b[0m\u001b[1;33m,\u001b[0m \u001b[1;32mNone\u001b[0m\u001b[1;33m)\u001b[0m\u001b[1;33m\u001b[0m\u001b[1;33m\u001b[0m\u001b[0m\n",
      "\u001b[1;32mC:\\Users\\Public\\Anaconda\\lib\\site-packages\\bindsnet-master\\bindsnet\\learning\\learning.py\u001b[0m in \u001b[0;36m_connection_update\u001b[1;34m(self, **kwargs)\u001b[0m\n\u001b[0;32m    310\u001b[0m         \u001b[1;31m# Post-synaptic update.\u001b[0m\u001b[1;33m\u001b[0m\u001b[1;33m\u001b[0m\u001b[1;33m\u001b[0m\u001b[0m\n\u001b[0;32m    311\u001b[0m \u001b[1;33m\u001b[0m\u001b[0m\n\u001b[1;32m--> 312\u001b[1;33m         \u001b[0mouter_product\u001b[0m \u001b[1;33m=\u001b[0m \u001b[0mself\u001b[0m\u001b[1;33m.\u001b[0m\u001b[0mreduction\u001b[0m\u001b[1;33m(\u001b[0m\u001b[0mtorch\u001b[0m\u001b[1;33m.\u001b[0m\u001b[0mbmm\u001b[0m\u001b[1;33m(\u001b[0m  \u001b[1;33m(\u001b[0m\u001b[1;33m(\u001b[0m\u001b[0msource_x\u001b[0m\u001b[1;33m/\u001b[0m\u001b[0mself\u001b[0m\u001b[1;33m.\u001b[0m\u001b[0msource\u001b[0m\u001b[1;33m.\u001b[0m\u001b[0mtc_trace\u001b[0m\u001b[1;33m)\u001b[0m\u001b[1;33m*\u001b[0m\u001b[0mt\u001b[0m\u001b[1;33m)\u001b[0m  \u001b[1;33m,\u001b[0m \u001b[0mtarget_s\u001b[0m\u001b[1;33m)\u001b[0m\u001b[1;33m,\u001b[0m \u001b[0mdim\u001b[0m\u001b[1;33m=\u001b[0m\u001b[1;36m0\u001b[0m\u001b[1;33m)\u001b[0m\u001b[1;33m\u001b[0m\u001b[1;33m\u001b[0m\u001b[0m\n\u001b[0m\u001b[0;32m    313\u001b[0m         \u001b[0mupdate\u001b[0m \u001b[1;33m+=\u001b[0m \u001b[0mG_pos\u001b[0m \u001b[1;33m*\u001b[0m \u001b[0mouter_product\u001b[0m \u001b[1;33m*\u001b[0m \u001b[1;33m(\u001b[0m\u001b[0mself\u001b[0m\u001b[1;33m.\u001b[0m\u001b[0mwmax\u001b[0m \u001b[1;33m-\u001b[0m \u001b[0mself\u001b[0m\u001b[1;33m.\u001b[0m\u001b[0mconnection\u001b[0m\u001b[1;33m.\u001b[0m\u001b[0mw\u001b[0m\u001b[1;33m)\u001b[0m \u001b[1;33m+\u001b[0m \u001b[0mc_pos\u001b[0m\u001b[1;33m*\u001b[0m\u001b[0mself\u001b[0m\u001b[1;33m.\u001b[0m\u001b[0mreduction\u001b[0m\u001b[1;33m(\u001b[0m\u001b[0mtarget_s\u001b[0m\u001b[1;33m,\u001b[0m\u001b[0mdim\u001b[0m\u001b[1;33m=\u001b[0m\u001b[1;36m0\u001b[0m\u001b[1;33m)\u001b[0m\u001b[1;33m\u001b[0m\u001b[1;33m\u001b[0m\u001b[0m\n\u001b[0;32m    314\u001b[0m \u001b[1;33m\u001b[0m\u001b[0m\n",
      "\u001b[1;31mRuntimeError\u001b[0m: Expected tensor to have size 2 at dimension 1, but got size 1 for argument #2 'batch2' (while checking arguments for bmm)"
     ]
    }
   ],
   "source": [
    "print('Begin training.\\n');\n",
    "start = t()\n",
    "n_train = 50 # number of training examples\n",
    "progress_interval = 1 # how often to plot progress\n",
    "\n",
    "for i in range(n_train):\n",
    "    if i % progress_interval == 0:\n",
    "        print('Progress: %d / %d (%.4f seconds)' % (i, n_train, t() - start));\n",
    "        start = t()\n",
    "\n",
    "    # Get next input sample.\n",
    "    sample = next(data_loader)\n",
    "    inpts = {'X': sample} # set sample to input X\n",
    "\n",
    "    # Run the network on the input.\n",
    "    network.run(inpts=inpts, time=time)\n",
    "    \n",
    "    # get recordings\n",
    "    recordings = network.monitors['Network'].get()\n",
    "    \n",
    "    # plot   \n",
    "    # Weights\n",
    "    fig_w = plt.figure(figsize=(18, 12))\n",
    "    plt.subplot(2,1,1)\n",
    "    plt.title('X -> Y')\n",
    "    weights = recordings[('X', 'Y')]['w'].view(4, -1)\n",
    "    for j in range(weights.size(0)):\n",
    "        plt.plot(np.arange(i*weights.size(1), (i+1)*weights.size(1)), weights[j].numpy(), label=str(j))\n",
    "    plt.legend(loc='upper right')\n",
    "    plt.ylim(-0.05, 1.05)\n",
    "    plt.grid()\n",
    "    \n",
    "    # Voltages\n",
    "    plt.subplot(2,1,2)\n",
    "    plt.title('Y voltage')\n",
    "    voltages = recordings[('Y')]['v'].view(2, -1)\n",
    "    for j in range(voltages.size(0)):\n",
    "        plt.plot(np.arange(i*voltages.size(1), (i+1)*voltages.size(1)), voltages[j].numpy(), label=str(j))\n",
    "    plt.legend(loc='upper right')\n",
    "    plt.hlines([reset, thresh], i*voltages.size(1), (i+1)*voltages.size(1))\n",
    "    plt.grid()\n",
    "    \n",
    "    display.clear_output(wait=True)\n",
    "    display.display(fig_w, display_id = 'weights')\n",
    "    \n",
    "    network.reset_()  # Reset state variables\n",
    "    \n",
    "    plt.close(fig_w)"
   ]
  },
  {
   "cell_type": "code",
   "execution_count": 18,
   "metadata": {},
   "outputs": [
    {
     "data": {
      "text/plain": [
       "'1.1.0'"
      ]
     },
     "execution_count": 18,
     "metadata": {},
     "output_type": "execute_result"
    }
   ],
   "source": [
    "torch.__version__"
   ]
  },
  {
   "cell_type": "raw",
   "metadata": {},
   "source": [
    "python.__version__"
   ]
  },
  {
   "cell_type": "code",
   "execution_count": 12,
   "metadata": {},
   "outputs": [
    {
     "ename": "SyntaxError",
     "evalue": "unexpected EOF while parsing (<ipython-input-12-6bf86efad36c>, line 1)",
     "output_type": "error",
     "traceback": [
      "\u001b[1;36m  File \u001b[1;32m\"<ipython-input-12-6bf86efad36c>\"\u001b[1;36m, line \u001b[1;32m1\u001b[0m\n\u001b[1;33m    3.5*(0.137 + np.exp(-1/(self.connection.w*1230))\u001b[0m\n\u001b[1;37m                                                    ^\u001b[0m\n\u001b[1;31mSyntaxError\u001b[0m\u001b[1;31m:\u001b[0m unexpected EOF while parsing\n"
     ]
    }
   ],
   "source": [
    "3.5*(0.137 + np.exp(-1/(self.connection.w*1230))"
   ]
  },
  {
   "cell_type": "code",
   "execution_count": 13,
   "metadata": {},
   "outputs": [
    {
     "data": {
      "image/png": "[encoded data removed]",
      "text/plain": [
       "<Figure size 504x504 with 1 Axes>"
      ]
     },
     "metadata": {
      "needs_background": "light"
     },
     "output_type": "display_data"
    }
   ],
   "source": [
    "delta_t = np.arange(0, 10000, 10)\n",
    "\n",
    "delta_w_STDP =[-3.5*(0.137 + np.exp(-d/1230)) for d in delta_t]\n",
    "delta_w_STDP1 =[0.046*(23.2 + d*np.exp(-d/790)) for d in delta_t]\n",
    "plt.figure(figsize=(7,7))\n",
    "plt.plot(delta_t, delta_w_STDP, label='с-', color='g')\n",
    "plt.plot(delta_t, delta_w_STDP1, label='с+', color='r')\n",
    "plt.ylabel('G')\n",
    "plt.xlabel('R')\n",
    "plt.vlines(0, A_neg, A_pos)\n",
    "plt.hlines(0, 0, 10000)\n",
    "plt.legend(loc='best')\n",
    "plt.xlim(0, 10000)\n",
    "plt.grid()\n",
    "plt.show()"
   ]
  },
  {
   "cell_type": "code",
   "execution_count": 14,
   "metadata": {},
   "outputs": [
    {
     "data": {
      "image/png": "[encoded data removed]",
      "text/plain": [
       "<Figure size 504x504 with 1 Axes>"
      ]
     },
     "metadata": {
      "needs_background": "light"
     },
     "output_type": "display_data"
    }
   ],
   "source": [
    "delta_t = np.arange(0, 10000, 10)\n",
    "\n",
    "delta_w_STDP =[1.0*(-0.53 + np.exp(-d/810)) for d in delta_t]\n",
    "delta_w_STDP1 =[-1.7*(0.01 + np.exp(-d/130)) for d in delta_t]\n",
    "plt.figure(figsize=(7,7))\n",
    "plt.plot(delta_t, delta_w_STDP, label='с-', color='g')\n",
    "plt.plot(delta_t, delta_w_STDP1, label='с+', color='r')\n",
    "plt.ylabel('с')\n",
    "plt.xlabel('R')\n",
    "plt.vlines(0, A_neg, A_pos)\n",
    "plt.hlines(0, 0, 10000)\n",
    "plt.legend(loc='best')\n",
    "plt.xlim(0, 10000)\n",
    "plt.grid()\n",
    "plt.show()"
   ]
  },
  {
   "cell_type": "code",
   "execution_count": 16,
   "metadata": {},
   "outputs": [
    {
     "data": {
      "image/png": "[encoded data removed]",
      "text/plain": [
       "<Figure size 504x504 with 1 Axes>"
      ]
     },
     "metadata": {
      "needs_background": "light"
     },
     "output_type": "display_data"
    }
   ],
   "source": [
    "delta_t = np.arange(0, 10000, 10)\n",
    "\n",
    "delta_w_STDP =[113 for d in delta_t]\n",
    "delta_w_STDP1 =[0.14*(-670 + d*np.exp(-d/900)) for d in delta_t]\n",
    "plt.figure(figsize=(7,7))\n",
    "plt.plot(delta_t, delta_w_STDP, label='t-', color='g')\n",
    "plt.plot(delta_t, delta_w_STDP1, label='t+', color='r')\n",
    "plt.ylabel('G')\n",
    "plt.xlabel('R')\n",
    "plt.vlines(0, A_neg, A_pos)\n",
    "plt.hlines(0, 0, 10000)\n",
    "plt.legend(loc='best')\n",
    "plt.xlim(0, 10000)\n",
    "plt.grid()\n",
    "plt.show()"
   ]
  },
  {
   "cell_type": "code",
   "execution_count": 26,
   "metadata": {},
   "outputs": [
    {
     "ename": "NameError",
     "evalue": "name 'python' is not defined",
     "output_type": "error",
     "traceback": [
      "\u001b[1;31m---------------------------------------------------------------------------\u001b[0m",
      "\u001b[1;31mNameError\u001b[0m                                 Traceback (most recent call last)",
      "\u001b[1;32m<ipython-input-26-45a3ce2a2cc7>\u001b[0m in \u001b[0;36m<module>\u001b[1;34m\u001b[0m\n\u001b[1;32m----> 1\u001b[1;33m \u001b[0mpython\u001b[0m\u001b[1;33m.\u001b[0m\u001b[0m__version__\u001b[0m\u001b[1;33m\u001b[0m\u001b[1;33m\u001b[0m\u001b[0m\n\u001b[0m",
      "\u001b[1;31mNameError\u001b[0m: name 'python' is not defined"
     ]
    }
   ],
   "source": [
    "python.__version__\n"
   ]
  },
  {
   "cell_type": "code",
   "execution_count": null,
   "metadata": {},
   "outputs": [],
   "source": []
  }
 ],
 "metadata": {
  "kernelspec": {
   "display_name": "Python 3",
   "language": "python",
   "name": "python3"
  },
  "language_info": {
   "codemirror_mode": {
    "name": "ipython",
    "version": 3
   },
   "file_extension": ".py",
   "mimetype": "text/x-python",
   "name": "python",
   "nbconvert_exporter": "python",
   "pygments_lexer": "ipython3",
   "version": "3.6.8"
  }
 },
 "nbformat": 4,
 "nbformat_minor": 2
}
