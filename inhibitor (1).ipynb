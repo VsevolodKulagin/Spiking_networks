{
 "cells": [
  {
   "cell_type": "code",
   "execution_count": 1,
   "metadata": {},
   "outputs": [
    {
     "data": {
      "text/html": [
       "<style>.container { width:90% !important; }</style>"
      ],
      "text/plain": [
       "<IPython.core.display.HTML object>"
      ]
     },
     "metadata": {},
     "output_type": "display_data"
    }
   ],
   "source": [
    "from IPython.core.display import display, HTML\n",
    "display(HTML(\"<style>.container { width:90% !important; }</style>\"))\n",
    "\n",
    "from IPython import display"
   ]
  },
  {
   "cell_type": "code",
   "execution_count": 2,
   "metadata": {},
   "outputs": [],
   "source": [
    "from matplotlib import pyplot as plt\n",
    "import torch\n",
    "import bindsnet\n",
    "import os\n",
    "import numpy as np\n",
    "import math"
   ]
  },
  {
   "cell_type": "code",
   "execution_count": 3,
   "metadata": {},
   "outputs": [],
   "source": [
    "from time import time as t\n",
    "\n",
    "from bindsnet.datasets import MNIST\n",
    "from bindsnet.network import Network\n",
    "from bindsnet.learning import WeightDependentPostPre\n",
    "from bindsnet.encoding import poisson_loader\n",
    "from bindsnet.network.monitors import NetworkMonitor\n",
    "from bindsnet.network.nodes import Input, IFNodes\n",
    "from bindsnet.network.topology import Connection"
   ]
  },
  {
   "cell_type": "markdown",
   "metadata": {},
   "source": [
    "### Set Parameters"
   ]
  },
  {
   "cell_type": "code",
   "execution_count": 4,
   "metadata": {},
   "outputs": [],
   "source": [
    "init_weight_value = 0.8\n",
    "weights_init_XY = torch.Tensor([[init_weight_value, 1 - init_weight_value],\n",
    "                                [1 - init_weight_value, init_weight_value]\n",
    "                               ])\n",
    "\n",
    "# Learning\n",
    "### STDP\n",
    "\n",
    "A_pos = 0.3 # A_+\n",
    "A_neg = -1.5 # A_-\n",
    "\n",
    "trace_tc = 2 # 1/tau_+ ; 1/tau_-\n",
    "\n",
    "# Connections\n",
    "wmin = 0\n",
    "wmax = 1\n",
    "weight_decay = 15e-5\n",
    "\n",
    "# Neurons\n",
    "reset = 0.0\n",
    "\n",
    "#### Thresholds\n",
    "refrac = 3\n",
    "thresh = 6.0\n",
    "\n",
    "# Data encoding\n",
    "intensity = 200\n",
    "time = 50"
   ]
  },
  {
   "cell_type": "markdown",
   "metadata": {},
   "source": [
    "### Plot your STDP curve"
   ]
  },
  {
   "cell_type": "code",
   "execution_count": 5,
   "metadata": {},
   "outputs": [
    {
     "data": {
      "image/png": "[encoded data removed]",
      "text/plain": [
       "<Figure size 504x504 with 1 Axes>"
      ]
     },
     "metadata": {
      "needs_background": "light"
     },
     "output_type": "display_data"
    }
   ],
   "source": [
    "# STDP\n",
    "delta_t = np.arange(-100, 100, 0.01)\n",
    "tc_trace_pos = trace_tc\n",
    "tc_trace_neg = trace_tc\n",
    "delta_w_STDP = [A_pos * np.exp(-d * tc_trace_pos) if d >= 0 else A_neg * np.exp(d * tc_trace_neg) for d in delta_t]\n",
    "plt.figure(figsize=(7,7))\n",
    "plt.plot(delta_t, delta_w_STDP, label='STDP', color='g')\n",
    "plt.ylabel('delta w')\n",
    "plt.xlabel('delta t, ms')\n",
    "plt.vlines(0, A_neg, A_pos)\n",
    "plt.hlines(0, -100, 100)\n",
    "plt.legend(loc='best')\n",
    "plt.xlim(-50, 50)\n",
    "plt.grid()\n",
    "plt.show()"
   ]
  },
  {
   "cell_type": "markdown",
   "metadata": {},
   "source": [
    "### Create Network"
   ]
  },
  {
   "cell_type": "code",
   "execution_count": 6,
   "metadata": {},
   "outputs": [
    {
     "name": "stdout",
     "output_type": "stream",
     "text": [
      "GlobalMonitor.state_vars: ('v', 's', 'w')\n"
     ]
    }
   ],
   "source": [
    "network = Network()\n",
    "input_layer = Input(n=2, \n",
    "                    traces=True, \n",
    "                    trace_tc=trace_tc\n",
    "                   )\n",
    "\n",
    "output_layer = IFNodes(n=2, \n",
    "                       traces=True, \n",
    "                       thresh=thresh, \n",
    "                       reset=reset,\n",
    "                       refrac=refrac, \n",
    "                       trace_tc=trace_tc\n",
    "                       )\n",
    "\n",
    "inhibitor_layer = IFNodes(n=2,\n",
    "                         traces=True,\n",
    "                         thresh=thresh,\n",
    "                         reset=reset,\n",
    "                         refrac=refrac,\n",
    "                         trace_tc=trace_tc)\n",
    "\n",
    "conn_XY = Connection(input_layer, \n",
    "                     output_layer, \n",
    "                     update_rule=WeightDependentPostPre, \n",
    "                     w=weights_init_XY, \n",
    "                     nu=[A_neg, A_pos], \n",
    "                     wmin=wmin, \n",
    "                     wmax=wmax,\n",
    "                     weight_decay=weight_decay\n",
    "                     )\n",
    "\n",
    "conn_YH = Connection(output_layer,\n",
    "                     inhibitor_layer,\n",
    "                     update_rule=WeightDependentPostPre,\n",
    "                     w=torch.diagflat(torch.diagonal(weights_init_XY, 0)),\n",
    "                     nu=[A_neg, A_pos],\n",
    "                     wmin=wmin,\n",
    "                     wmax=wmax,\n",
    "                     weight_decay=weight_decay,\n",
    "                     type_of_connection=1\n",
    "                     )\n",
    "\n",
    "conn_HY = Connection(inhibitor_layer,\n",
    "                     output_layer,\n",
    "                     update_rule=WeightDependentPostPre,\n",
    "                     w=-(weights_init_XY-torch.diagflat(-torch.diagonal(weights_init_XY, 0))),\n",
    "                     nu=[A_pos, A_neg],\n",
    "                     wmin=-1,\n",
    "                     wmax=0,\n",
    "                     weight_decay=weight_decay,\n",
    "                     type_of_connection=2\n",
    "                     )\n",
    "\n",
    "network.add_layer(input_layer, name='X')\n",
    "network.add_layer(output_layer, name='Y')\n",
    "network.add_layer(inhibitor_layer, name='H')\n",
    "\n",
    "network.add_connection(conn_XY, source='X', target='Y')\n",
    "network.add_connection(conn_YH, source='Y', target='H')\n",
    "network.add_connection(conn_HY, source='H', target='Y')\n",
    "\n",
    "GlobalMonitor = NetworkMonitor(network, state_vars=('v', 's', 'w'))\n",
    "network.add_monitor(GlobalMonitor, name='Network')\n",
    "\n",
    "print('GlobalMonitor.state_vars:', GlobalMonitor.state_vars)"
   ]
  },
  {
   "cell_type": "code",
   "execution_count": 7,
   "metadata": {},
   "outputs": [],
   "source": [
    "network.connections[('Y', 'H')].type_of_connection=1\n",
    "network.connections[('H', 'Y')].type_of_connection=2"
   ]
  },
  {
   "cell_type": "markdown",
   "metadata": {},
   "source": [
    "### Create Custom Dataset"
   ]
  },
  {
   "cell_type": "code",
   "execution_count": 8,
   "metadata": {
    "scrolled": true
   },
   "outputs": [],
   "source": [
    "len_dataset = 1000\n",
    "input_data = torch.zeros(len_dataset, 2)\n",
    "\n",
    "for i in range(len_dataset):\n",
    "    if i % 2 == 0:\n",
    "        input_data[i] = torch.Tensor([1.0, 0.0]) + 0.1*torch.rand([1, 2])\n",
    "    else:\n",
    "        input_data[i] = torch.Tensor([0.0, 1.0]) + 0.1*torch.rand([1, 2])\n",
    "        \n",
    "input_data *= intensity\n",
    "\n",
    "# Lazily encode data as Poisson spike trains.\n",
    "data_loader = poisson_loader(data=input_data, time=time)\n",
    "\n",
    "# set visualize_sample = True to watch the example\n",
    "visualize_sample = False\n",
    "\n",
    "# display.update_display example\n",
    "if visualize_sample:\n",
    "    sample = next(data_loader)\n",
    "    fig = plt.figure(figsize=(4,4))\n",
    "    for i, sample in enumerate(data_loader):\n",
    "        if i==0:\n",
    "            plt.title('spike coding 0 0')\n",
    "            plt.imshow(sample[0].view(2,1))\n",
    "            plt.axis('off')\n",
    "            display.display(fig, display_id = 'spike coding')\n",
    "\n",
    "        for j, sample_t in enumerate(sample):\n",
    "            plt.title('spike coding ' + str(i) + ' '+ str(j))\n",
    "            plt.imshow(sample_t.view(2,1))\n",
    "            plt.axis('off')\n",
    "            display.update_display(fig, display_id = 'spike coding')\n",
    "        print(i)\n",
    "        \n",
    "        break\n",
    "\n",
    "    "
   ]
  },
  {
   "cell_type": "code",
   "execution_count": 9,
   "metadata": {},
   "outputs": [
    {
     "data": {
      "image/png": "[encoded data removed]",
      "text/plain": [
       "<Figure size 432x288 with 1 Axes>"
      ]
     },
     "metadata": {
      "needs_background": "light"
     },
     "output_type": "display_data"
    }
   ],
   "source": [
    "sample = next(data_loader)\n",
    "\n",
    "# Spike times\n",
    "plt.figure()\n",
    "plt.imshow(sample.numpy().T)\n",
    "plt.show()"
   ]
  },
  {
   "cell_type": "markdown",
   "metadata": {},
   "source": [
    "### Цикл обучения"
   ]
  },
  {
   "cell_type": "code",
   "execution_count": 10,
   "metadata": {
    "scrolled": false
   },
   "outputs": [
    {
     "data": {
      "image/png": "[encoded data removed]",
      "text/plain": [
       "<Figure size 1008x648 with 2 Axes>"
      ]
     },
     "metadata": {},
     "output_type": "display_data"
    }
   ],
   "source": [
    "print('Begin training.\\n');\n",
    "start = t()\n",
    "n_train = 50 # number of training examples\n",
    "progress_interval = 1 # how often to plot progress\n",
    "\n",
    "for i in range(n_train):\n",
    "    if i % progress_interval == 0:\n",
    "        print('Progress: %d / %d (%.4f seconds)' % (i, n_train, t() - start));\n",
    "        start = t()\n",
    "\n",
    "    # Get next input sample.\n",
    "    sample = next(data_loader)\n",
    "    inpts = {'X': sample} # set sample to input X\n",
    "\n",
    "    # Run the network on the input.\n",
    "    network.run(inpts=inpts, time=time)\n",
    "    \n",
    "    # get recordings\n",
    "    recordings = network.monitors['Network'].get()\n",
    "    \n",
    "    # plot   \n",
    "    # Weights\n",
    "    fig_w = plt.figure(figsize=(14, 9))\n",
    "   # plt.subplot(2,1,1)\n",
    "    #plt.title('X -> Y')\n",
    "    #weights = recordings[('X', 'Y')]['w'].view(4, -1)\n",
    "    #for j in range(weights.size(0)):\n",
    "    #    plt.plot(np.arange(i*weights.size(1), (i+1)*weights.size(1)), weights[j].numpy(), label=str(j))\n",
    "    #plt.legend(loc='upper right')\n",
    "    #plt.ylim(-0.05, 1.05)\n",
    "    #plt.grid()\n",
    "    \n",
    "    \n",
    "     #______________________________________\n",
    "  \n",
    "    #plt.subplot(2,1,1)\n",
    "    #plt.title('Y -> H')\n",
    "    #weights = recordings[('Y', 'H')]['w'].view(4, -1)\n",
    "    #for j in range(weights.size(0)):\n",
    "    #    plt.plot(np.arange(i*weights.size(1), (i+1)*weights.size(1)), weights[j].numpy(), label=str(j))\n",
    "    #plt.legend(loc='upper right')\n",
    "    #plt.ylim(-0.05, 1.05)\n",
    "    #plt.grid()\n",
    "    \n",
    "    plt.subplot(2,1,1)\n",
    "    plt.title('H -> Y')\n",
    "    weights = recordings[('H', 'Y')]['w'].view(4, -1)\n",
    "    for j in range(weights.size(0)):\n",
    "        plt.plot(np.arange(i*weights.size(1), (i+1)*weights.size(1)), weights[j].numpy(), label=str(j))\n",
    "    plt.legend(loc='upper right')\n",
    "    plt.ylim(-1.05, 0.05)\n",
    "    plt.grid()\n",
    "    #_______________________________________________________\n",
    "    \n",
    "    # Voltages\n",
    "    plt.subplot(2,1,2)\n",
    "    plt.title('H voltage')\n",
    "    voltages = recordings[('H')]['v'].view(2, -1)\n",
    "    for j in range(voltages.size(0)):\n",
    "        plt.plot(np.arange(i*voltages.size(1), (i+1)*voltages.size(1)), voltages[j].numpy(), label=str(j))\n",
    "    plt.legend(loc='upper right')\n",
    "    plt.hlines([reset, thresh], i*voltages.size(1), (i+1)*voltages.size(1))\n",
    "    plt.grid()\n",
    "   \n",
    "    display.clear_output(wait=True)\n",
    "    display.display(fig_w, display_id = 'weights')\n",
    "    \n",
    "    network.reset_()  # Reset state variables\n",
    "    \n",
    "    plt.close(fig_w)"
   ]
  },
  {
   "cell_type": "code",
   "execution_count": null,
   "metadata": {},
   "outputs": [],
   "source": [
    "network.connections[('X', 'Y')].w.numpy()"
   ]
  },
  {
   "cell_type": "code",
   "execution_count": 15,
   "metadata": {},
   "outputs": [
    {
     "data": {
      "text/plain": [
       "array([[0.12266666, 0.        ],\n",
       "       [0.        , 0.12266666]], dtype=float32)"
      ]
     },
     "execution_count": 15,
     "metadata": {},
     "output_type": "execute_result"
    }
   ],
   "source": [
    "network.connections[('Y', 'H')].w.numpy()"
   ]
  },
  {
   "cell_type": "code",
   "execution_count": 16,
   "metadata": {},
   "outputs": [
    {
     "data": {
      "text/plain": [
       "array([[-0.15333317, -0.03066667],\n",
       "       [-0.03066667, -0.15333317]], dtype=float32)"
      ]
     },
     "execution_count": 16,
     "metadata": {},
     "output_type": "execute_result"
    }
   ],
   "source": [
    "network.connections[('H', 'Y')].w.numpy()"
   ]
  },
  {
   "cell_type": "code",
   "execution_count": null,
   "metadata": {},
   "outputs": [],
   "source": []
  }
 ],
 "metadata": {
  "kernelspec": {
   "display_name": "Python 3",
   "language": "python",
   "name": "python3"
  },
  "language_info": {
   "codemirror_mode": {
    "name": "ipython",
    "version": 3
   },
   "file_extension": ".py",
   "mimetype": "text/x-python",
   "name": "python",
   "nbconvert_exporter": "python",
   "pygments_lexer": "ipython3",
   "version": "3.6.8"
  }
 },
 "nbformat": 4,
 "nbformat_minor": 2
}
